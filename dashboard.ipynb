{
 "cells": [
  {
   "cell_type": "markdown",
   "source": [
    "# San Francisco Rental Prices Dashboard\n",
    "\n",
    "In this notebook, you will compile the visualizations from the previous analysis into functions that can be used for a Panel dashboard."
   ],
   "metadata": {}
  },
  {
   "cell_type": "code",
   "execution_count": 2,
   "source": [
    "# imports\r\n",
    "import panel as pn\r\n",
    "pn.extension('plotly')\r\n",
    "import plotly.express as px\r\n",
    "import pandas as pd\r\n",
    "import hvplot.pandas\r\n",
    "import matplotlib.pyplot as plt\r\n",
    "import os\r\n",
    "from pathlib import Path\r\n",
    "from dotenv import load_dotenv\r\n"
   ],
   "outputs": [],
   "metadata": {}
  },
  {
   "cell_type": "code",
   "execution_count": 12,
   "source": [
    "# Read the Mapbox API key\r\n",
    "load_dotenv()\r\n",
    "map_box_api = os.getenv(\"mapbox\")\r\n",
    "px.set_mapbox_access_token(map_box_api)"
   ],
   "outputs": [],
   "metadata": {}
  },
  {
   "cell_type": "markdown",
   "source": [
    "# Import Data"
   ],
   "metadata": {}
  },
  {
   "cell_type": "code",
   "execution_count": 3,
   "source": [
    "# Import the necessary CSVs to Pandas DataFrames\r\n",
    "sfo_data = pd.read_csv('sfo_neighborhoods_census_data.csv', index_col='year')\r\n",
    "\r\n",
    "locations_df = pd.read_csv('neighborhoods_coordinates.csv')"
   ],
   "outputs": [],
   "metadata": {}
  },
  {
   "cell_type": "markdown",
   "source": [
    "- - -"
   ],
   "metadata": {}
  },
  {
   "cell_type": "markdown",
   "source": [
    "## Panel Visualizations\n",
    "\n",
    "In this section, you will copy the code for each plot type from your analysis notebook and place it into separate functions that Panel can use to create panes for the dashboard. \n",
    "\n",
    "These functions will convert the plot object to a Panel pane.\n",
    "\n",
    "Be sure to include any DataFrame transformation/manipulation code required along with the plotting code.\n",
    "\n",
    "Return a Panel pane object from each function that can be used to build the dashboard.\n",
    "\n",
    "Note: Remove any `.show()` lines from the code. We want to return the plots instead of showing them. The Panel dashboard will then display the plots."
   ],
   "metadata": {}
  },
  {
   "cell_type": "code",
   "execution_count": 26,
   "source": [
    "# Define Panel Visualization Functions\r\n",
    "def housing_units_per_year():\r\n",
    "    \"\"\"Housing Units Per Year.\"\"\"\r\n",
    "\r\n",
    "    mean_housing_units = sfo_data.groupby('year').mean('housing_units')\r\n",
    "\r\n",
    "    housing_units_plot = mean_housing_units.plot(\r\n",
    "        kind='bar', \r\n",
    "        ylim = [370000, 387500], \r\n",
    "        xlabel = 'Year', \r\n",
    "        ylabel = 'Housing Units', \r\n",
    "        title = 'Housing Units in San Francisco from 2010 to 2016'\r\n",
    "    )\r\n",
    "    return(housing_units_plot)\r\n",
    "\r\n",
    "\r\n",
    "\r\n",
    "def average_gross_rent():\r\n",
    "    \"\"\"Average Gross Rent in San Francisco Per Year.\"\"\"\r\n",
    "    \r\n",
    "    average_rent_per_year = sfo_data.groupby('year').mean(['sale_price_sqr_foot', 'gross_rent'])\r\n",
    "\r\n",
    "    rent_line_chart = average_rent_per_year['gross_rent'].plot(\r\n",
    "        title='Average Gross Rent by Year', \r\n",
    "        xlabel='Year', \r\n",
    "        ylabel='Gross Rent'\r\n",
    "    )\r\n",
    "    return(rent_line_chart)\r\n",
    "    \r\n",
    "\r\n",
    "\r\n",
    "def average_sales_price():\r\n",
    "    \"\"\"Average Sales Price Per Year.\"\"\"\r\n",
    "    \r\n",
    "    average_sales_price = sfo_data.groupby('year').mean(['sale_price_sqr_foot', 'gross_rent'])\r\n",
    "    \r\n",
    "    price_line_chart = average_sales_price['sale_price_sqr_foot'].plot(\r\n",
    "        title='Average Price per SqFt by Year', \r\n",
    "        xlabel='Year', \r\n",
    "        ylabel='Price per SqFt'\r\n",
    "    )\r\n",
    "    return(price_line_chart)\r\n",
    "\r\n",
    "\r\n",
    "def average_price_by_neighborhood():\r\n",
    "    \"\"\"Average Prices by Neighborhood.\"\"\"\r\n",
    "    \r\n",
    "    sfo_data2 = sfo_data.reset_index()\r\n",
    "    average_hood_prices = sfo_data2.hvplot.line(\r\n",
    "        groupby='neighborhood',\r\n",
    "        x='year',\r\n",
    "        y='sale_price_sqr_foot',\r\n",
    "        xlabel='Year',\r\n",
    "        ylabel='Average sale price for SF neighborhoods'\r\n",
    "    )\r\n",
    "    return(average_hood_prices)\r\n",
    "\r\n",
    "\r\n",
    "\r\n",
    "#Top 10 most expensive neighborhoods df:\r\n",
    "top_10_expensive_data = sfo_data.groupby('neighborhood').mean(['sale_price_sqr_foot','housing_units','gross_rent']).sort_values('sale_price_sqr_foot', ascending=False).head(10).reset_index()\r\n",
    "\r\n",
    "\r\n",
    "def top_most_expensive_neighborhoods():\r\n",
    "    \"\"\"Top 10 Most Expensive Neighborhoods.\"\"\"\r\n",
    "    \r\n",
    "    top_10_expensive_plot = top_10_expensive_data.hvplot.bar(\r\n",
    "        title='Top 10 most expensive neighborhoods in SF',\r\n",
    "        x='neighborhood',\r\n",
    "        y='sale_price_sqr_foot',\r\n",
    "        xlabel='Neighborhood',\r\n",
    "        ylabel='Sale price per sqr ft.',\r\n",
    "        rot=60,\r\n",
    "        height=500,\r\n",
    "        width=900\r\n",
    "    )\r\n",
    "    return(top_10_expensive_plot)\r\n",
    "\r\n",
    "\r\n",
    "\r\n",
    "def most_expensive_neighborhoods_rent_sales():\r\n",
    "    \"\"\"Comparison of Rent and Sales Prices of Most Expensive Neighborhoods.\"\"\"   \r\n",
    "    \r\n",
    "    most_expensive_hoods_comparison_plot = top_10_expensive_data.hvplot.bar(\r\n",
    "        title='Comparison of Rent and Sales Prices of Most Expensive Neighborhoods',\r\n",
    "        x='neighborhood',\r\n",
    "        y=['sale_price_sqr_foot', 'gross_rent'],\r\n",
    "        xlabel='Neighborhood',\r\n",
    "        ylabel='Amount',\r\n",
    "        rot=60,\r\n",
    "        height=500,\r\n",
    "        width=900\r\n",
    "    )\r\n",
    "    return(most_expensive_hoods_comparison_plot)\r\n",
    "    \r\n",
    "    \r\n",
    "\r\n",
    "def parallel_coordinates():\r\n",
    "    \"\"\"Parallel Coordinates Plot.\"\"\"\r\n",
    "\r\n",
    "    parallel_coordinates_plot = px.parallel_coordinates(\r\n",
    "        top_10_expensive_data,\r\n",
    "        title='Parallel Coordinates Analysis of Most Expensive San Francisco Neighborhoods',\r\n",
    "        color='sale_price_sqr_foot'\r\n",
    "    )\r\n",
    "    return(parallel_coordinates_plot)\r\n",
    "\r\n",
    "\r\n",
    "\r\n",
    "def parallel_categories():\r\n",
    "    \"\"\"Parallel Categories Plot.\"\"\"\r\n",
    "    \r\n",
    "    parallel_categories_plot = px.parallel_categories(\r\n",
    "        top_10_expensive_data,\r\n",
    "        title='Parallel Categories Analysis of Most Expensive San Francisco Neighborhoods',\r\n",
    "        dimensions=['neighborhood', 'sale_price_sqr_foot', 'housing_units', 'gross_rent'],\r\n",
    "        color='sale_price_sqr_foot'\r\n",
    "    )\r\n",
    "    return(parallel_categories_plot)\r\n",
    "\r\n",
    "\r\n",
    "\r\n",
    "def neighborhood_map():\r\n",
    "    \"\"\"Neighborhood Map.\"\"\"\r\n",
    "\r\n",
    "    neighborhood_values = sfo_data.groupby('neighborhood').mean().reset_index()\r\n",
    "    hood_location_values = pd.concat([locations_df, neighborhood_values], axis='columns', join='inner')\r\n",
    "\r\n",
    "    hood_map = px.scatter_mapbox(\r\n",
    "        hood_location_values,\r\n",
    "        title='Average Sale Price Per Square Foot and Gross Rent in San Francisco',\r\n",
    "        lat='Lat',\r\n",
    "        lon='Lon',\r\n",
    "        size='sale_price_sqr_foot',\r\n",
    "        color='gross_rent'\r\n",
    "    )\r\n",
    "    return(hood_map)   \r\n",
    "\r\n",
    "\r\n",
    "def sunburst():\r\n",
    "    \"\"\"Sunburst Plot.\"\"\"\r\n",
    "\r\n",
    "    mean_sfo_data = sfo_data.groupby(['year', 'neighborhood']).mean('sale_price_sqr_foot')\r\n",
    "    mean_sfo_data_df = pd.DataFrame(mean_sfo_data).reset_index()\r\n",
    "    df_expensive_neighborhoods_per_year = mean_sfo_data_df[mean_sfo_data_df[\"neighborhood\"].isin(top_10_expensive_data[\"neighborhood\"])]\r\n",
    "\r\n",
    "    sunburst_plot = px.sunburst(\r\n",
    "        df_expensive_neighborhoods_per_year,\r\n",
    "        title='Cost Analysis of Most Expensive Neighborhoods in San Francisco per Year',\r\n",
    "        path=['year', 'neighborhood'],\r\n",
    "        values='sale_price_sqr_foot',\r\n",
    "        color='gross_rent',\r\n",
    "        color_continuous_scale='thermal'\r\n",
    "    )\r\n",
    "    return(sunburst_plot)\r\n"
   ],
   "outputs": [],
   "metadata": {}
  },
  {
   "cell_type": "markdown",
   "source": [
    "## Panel Dashboard\n",
    "\n",
    "In this section, you will combine all of the plots into a single dashboard view using Panel. Be creative with your dashboard design!"
   ],
   "metadata": {}
  },
  {
   "cell_type": "code",
   "execution_count": null,
   "source": [
    "# Create a Title for the Dashboard\r\n",
    "\r\n",
    "db_title = '# San Francisco Real Estate Analysis'\r\n",
    "\r\n",
    "# Create a tab layout for the dashboard\r\n",
    "\r\n",
    "map_tab = pn.Column(\r\n",
    "    '## San Francisco neighborhood average rent and price per square foot values at a glance',\r\n",
    "    neighborhood_map()\r\n",
    ")\r\n",
    "\r\n",
    "yearly_tab = pn.Row(\r\n",
    "    '## Yearly housing units, average rent and price per square foot comparison',\r\n",
    "    housing_units_per_year(),\r\n",
    "    average_gross_rent(),\r\n",
    "    average_sales_price()\r\n",
    ")\r\n",
    "\r\n",
    "hoods_tab = pn.Column(\r\n",
    "    \"## Comparing San Francisco's top 10 neighborhoods\",\r\n",
    "    most_expensive_neighborhoods_rent_sales(),\r\n",
    "    top_most_expensive_neighborhoods()\r\n",
    ")\r\n",
    "\r\n",
    "parallel_tab = pn.Column(\r\n",
    "    '## Parallel plot analyses',\r\n",
    "    parallel_coordinates(),\r\n",
    "    parallel_categories()\r\n",
    ")\r\n",
    "\r\n",
    "sunburst_tab = pn.Column(\r\n",
    "    '## Yearly comparison for top 10 San Francisco neighborhoods',\r\n",
    "    sunburst()\r\n",
    ")\r\n",
    "\r\n",
    "db_tabs = pn.Tabs(\r\n",
    "    ('San Francisco neighborhoods overview', map_tab),\r\n",
    "    ('Yearly evaluation', yearly_tab), \r\n",
    "    ('Top neighborhoods', hoods_tab),\r\n",
    "    ('Parallel plots', parallel_tab),\r\n",
    "    ('Sunburst', sunburst_tab)\r\n",
    "    )\r\n",
    "    \r\n",
    "# Create the dashboard\r\n",
    "\r\n",
    "sanfran_db = pn.Column(db_title, db_tabs)"
   ],
   "outputs": [],
   "metadata": {}
  },
  {
   "cell_type": "markdown",
   "source": [
    "## Serve the Panel Dashboard"
   ],
   "metadata": {}
  },
  {
   "cell_type": "code",
   "execution_count": 28,
   "source": [
    "# Serve the# dashboard\r\n",
    "sanfran_db.servable()"
   ],
   "outputs": [
    {
     "output_type": "display_data",
     "data": {
      "application/vnd.jupyter.widget-view+json": {
       "version_major": 2,
       "version_minor": 0,
       "model_id": "f39992cdaeb8456884c516cf4743977c"
      },
      "text/plain": [
       "BokehModel(combine_events=True, render_bundle={'docs_json': {'93e94b0b-3d0e-4222-a6df-c97d28bde0da': {'defs': …"
      ]
     },
     "metadata": {}
    },
    {
     "output_type": "execute_result",
     "data": {
      "text/html": [
       "<div style=\"display: none\"></div>"
      ],
      "text/plain": [
       "Column\n",
       "    [0] Markdown(str)\n",
       "    [1] Tabs\n",
       "        [0] Column\n",
       "            [0] Markdown(str)\n",
       "            [1] Plotly(Figure)\n",
       "        [1] Row\n",
       "            [0] Markdown(str)\n",
       "            [1] Str(AxesSubplot)\n",
       "            [2] Str(AxesSubplot)\n",
       "            [3] Str(AxesSubplot)\n",
       "        [2] Column\n",
       "            [0] Markdown(str)\n",
       "            [1] HoloViews(Bars)\n",
       "            [2] HoloViews(Bars)\n",
       "        [3] Column\n",
       "            [0] Markdown(str)\n",
       "            [1] Plotly(Figure, visible=False)\n",
       "            [2] Plotly(Figure, visible=False)\n",
       "        [4] Column\n",
       "            [0] Markdown(str)\n",
       "            [1] Plotly(Figure, visible=False)"
      ]
     },
     "metadata": {},
     "execution_count": 28
    }
   ],
   "metadata": {}
  },
  {
   "cell_type": "markdown",
   "source": [
    "# Debugging\n",
    "\n",
    "Note: Some of the Plotly express plots may not render in the notebook through the panel functions.\n",
    "\n",
    "However, you can test each plot by uncommenting the following code"
   ],
   "metadata": {}
  },
  {
   "cell_type": "code",
   "execution_count": null,
   "source": [
    "# housing_units_per_year()\r\n",
    "\r\n"
   ],
   "outputs": [],
   "metadata": {}
  },
  {
   "cell_type": "code",
   "execution_count": null,
   "source": [
    "# average_gross_rent()\r\n",
    "\r\n",
    "    "
   ],
   "outputs": [],
   "metadata": {}
  },
  {
   "cell_type": "code",
   "execution_count": 4,
   "source": [
    "# average_sales_price()\r\n"
   ],
   "outputs": [],
   "metadata": {}
  },
  {
   "cell_type": "code",
   "execution_count": null,
   "source": [
    "# average_price_by_neighborhood()"
   ],
   "outputs": [],
   "metadata": {}
  },
  {
   "cell_type": "code",
   "execution_count": null,
   "source": [
    "# top_most_expensive_neighborhoods()"
   ],
   "outputs": [],
   "metadata": {}
  },
  {
   "cell_type": "code",
   "execution_count": 10,
   "source": [
    "# most_expensive_neighborhoods_rent_sales()\r\n"
   ],
   "outputs": [
    {
     "output_type": "display_data",
     "data": {},
     "metadata": {}
    },
    {
     "output_type": "execute_result",
     "data": {
      "text/html": [
       "<div id='1124'>\n",
       "\n",
       "\n",
       "\n",
       "\n",
       "\n",
       "  <div class=\"bk-root\" id=\"944bcc4e-137d-4199-b5f3-54643d7e237f\" data-root-id=\"1124\"></div>\n",
       "</div>\n",
       "<script type=\"application/javascript\">(function(root) {\n",
       "  function embed_document(root) {\n",
       "    var docs_json = {\"ca134d66-7bb1-4bfb-894d-c625646d7e09\":{\"defs\":[{\"extends\":null,\"module\":null,\"name\":\"ReactiveHTML1\",\"overrides\":[],\"properties\":[]},{\"extends\":null,\"module\":null,\"name\":\"FlexBox1\",\"overrides\":[],\"properties\":[{\"default\":\"flex-start\",\"kind\":null,\"name\":\"align_content\"},{\"default\":\"flex-start\",\"kind\":null,\"name\":\"align_items\"},{\"default\":\"row\",\"kind\":null,\"name\":\"flex_direction\"},{\"default\":\"wrap\",\"kind\":null,\"name\":\"flex_wrap\"},{\"default\":\"flex-start\",\"kind\":null,\"name\":\"justify_content\"}]},{\"extends\":null,\"module\":null,\"name\":\"TemplateActions1\",\"overrides\":[],\"properties\":[{\"default\":0,\"kind\":null,\"name\":\"open_modal\"},{\"default\":0,\"kind\":null,\"name\":\"close_modal\"}]},{\"extends\":null,\"module\":null,\"name\":\"MaterialTemplateActions1\",\"overrides\":[],\"properties\":[{\"default\":0,\"kind\":null,\"name\":\"open_modal\"},{\"default\":0,\"kind\":null,\"name\":\"close_modal\"}]}],\"roots\":{\"references\":[{\"attributes\":{\"children\":[{\"id\":\"1125\"},{\"id\":\"1129\"},{\"id\":\"1194\"}],\"margin\":[0,0,0,0],\"name\":\"Row02031\",\"tags\":[\"embedded\"]},\"id\":\"1124\",\"type\":\"Row\"},{\"attributes\":{\"axis_label\":\"neighborhood, Variable\",\"formatter\":{\"id\":\"1169\"},\"major_label_orientation\":1.0471975511965976,\"major_label_policy\":{\"id\":\"1170\"},\"ticker\":{\"id\":\"1139\"}},\"id\":\"1138\",\"type\":\"CategoricalAxis\"},{\"attributes\":{\"factors\":[[\"Union Square District\",\"gross_rent\"],[\"Union Square District\",\"sale_price_sqr_foot\"],[\"Merced Heights\",\"gross_rent\"],[\"Merced Heights\",\"sale_price_sqr_foot\"],[\"Miraloma Park\",\"gross_rent\"],[\"Miraloma Park\",\"sale_price_sqr_foot\"],[\"Pacific Heights\",\"gross_rent\"],[\"Pacific Heights\",\"sale_price_sqr_foot\"],[\"Westwood Park\",\"gross_rent\"],[\"Westwood Park\",\"sale_price_sqr_foot\"],[\"Telegraph Hill\",\"gross_rent\"],[\"Telegraph Hill\",\"sale_price_sqr_foot\"],[\"Presidio Heights\",\"gross_rent\"],[\"Presidio Heights\",\"sale_price_sqr_foot\"],[\"Cow Hollow\",\"gross_rent\"],[\"Cow Hollow\",\"sale_price_sqr_foot\"],[\"Potrero Hill\",\"gross_rent\"],[\"Potrero Hill\",\"sale_price_sqr_foot\"],[\"South Beach\",\"gross_rent\"],[\"South Beach\",\"sale_price_sqr_foot\"]],\"tags\":[[[\"neighborhood\",\"neighborhood\",null],[\"Variable\",\"Variable\",null]]]},\"id\":\"1126\",\"type\":\"FactorRange\"},{\"attributes\":{\"factors\":[\"sale_price_sqr_foot\",\"gross_rent\"],\"palette\":[\"#30a2da\",\"#fc4f30\"]},\"id\":\"1158\",\"type\":\"CategoricalColorMapper\"},{\"attributes\":{\"data_source\":{\"id\":\"1159\"},\"glyph\":{\"id\":\"1162\"},\"hover_glyph\":null,\"muted_glyph\":{\"id\":\"1164\"},\"nonselection_glyph\":{\"id\":\"1163\"},\"selection_glyph\":{\"id\":\"1167\"},\"view\":{\"id\":\"1166\"}},\"id\":\"1165\",\"type\":\"GlyphRenderer\"},{\"attributes\":{\"axis\":{\"id\":\"1141\"},\"dimension\":1,\"grid_line_color\":null,\"ticker\":null},\"id\":\"1144\",\"type\":\"Grid\"},{\"attributes\":{\"end\":4289.887552080543,\"reset_end\":4289.887552080543,\"reset_start\":0.0,\"tags\":[[[\"value\",\"value\",null]]]},\"id\":\"1127\",\"type\":\"Range1d\"},{\"attributes\":{\"margin\":[5,5,5,5],\"name\":\"HSpacer02036\",\"sizing_mode\":\"stretch_width\"},\"id\":\"1194\",\"type\":\"Spacer\"},{\"attributes\":{\"overlay\":{\"id\":\"1150\"}},\"id\":\"1148\",\"type\":\"BoxZoomTool\"},{\"attributes\":{\"data\":{\"Variable\":[\"sale_price_sqr_foot\",\"sale_price_sqr_foot\",\"sale_price_sqr_foot\",\"sale_price_sqr_foot\",\"sale_price_sqr_foot\",\"sale_price_sqr_foot\",\"sale_price_sqr_foot\",\"sale_price_sqr_foot\",\"sale_price_sqr_foot\",\"sale_price_sqr_foot\",\"gross_rent\",\"gross_rent\",\"gross_rent\",\"gross_rent\",\"gross_rent\",\"gross_rent\",\"gross_rent\",\"gross_rent\",\"gross_rent\",\"gross_rent\"],\"neighborhood\":[\"Union Square District\",\"Merced Heights\",\"Miraloma Park\",\"Pacific Heights\",\"Westwood Park\",\"Telegraph Hill\",\"Presidio Heights\",\"Cow Hollow\",\"Potrero Hill\",\"South Beach\",\"Union Square District\",\"Merced Heights\",\"Miraloma Park\",\"Pacific Heights\",\"Westwood Park\",\"Telegraph Hill\",\"Presidio Heights\",\"Cow Hollow\",\"Potrero Hill\",\"South Beach\"],\"value\":{\"__ndarray__\":\"JRAUMfI/jEB9IrkvwqaIQFx/3pp8XohAFZsVUHKMhUBr0ERas3iFQLsKhXgNJIVAy835O80ahUALV25bts+EQJrMCuEbsIRAya3y7v5QhEBVVVVVVfajQAAAAAAArKpAAAAAAIDWoEBJkiRJkgKmQAAAAAAA7q5ASZIkSZICpkBJkiRJkgKmQEmSJEmSAqZASZIkSZICpkAAAAAAAGagQA==\",\"dtype\":\"float64\",\"order\":\"little\",\"shape\":[20]},\"xoffsets\":[[\"Union Square District\",\"sale_price_sqr_foot\"],[\"Merced Heights\",\"sale_price_sqr_foot\"],[\"Miraloma Park\",\"sale_price_sqr_foot\"],[\"Pacific Heights\",\"sale_price_sqr_foot\"],[\"Westwood Park\",\"sale_price_sqr_foot\"],[\"Telegraph Hill\",\"sale_price_sqr_foot\"],[\"Presidio Heights\",\"sale_price_sqr_foot\"],[\"Cow Hollow\",\"sale_price_sqr_foot\"],[\"Potrero Hill\",\"sale_price_sqr_foot\"],[\"South Beach\",\"sale_price_sqr_foot\"],[\"Union Square District\",\"gross_rent\"],[\"Merced Heights\",\"gross_rent\"],[\"Miraloma Park\",\"gross_rent\"],[\"Pacific Heights\",\"gross_rent\"],[\"Westwood Park\",\"gross_rent\"],[\"Telegraph Hill\",\"gross_rent\"],[\"Presidio Heights\",\"gross_rent\"],[\"Cow Hollow\",\"gross_rent\"],[\"Potrero Hill\",\"gross_rent\"],[\"South Beach\",\"gross_rent\"]]},\"selected\":{\"id\":\"1160\"},\"selection_policy\":{\"id\":\"1182\"}},\"id\":\"1159\",\"type\":\"ColumnDataSource\"},{\"attributes\":{},\"id\":\"1145\",\"type\":\"SaveTool\"},{\"attributes\":{\"callback\":null,\"renderers\":[{\"id\":\"1165\"}],\"tags\":[\"hv_created\"],\"tooltips\":[[\"neighborhood\",\"@{neighborhood}\"],[\"Variable\",\"@{Variable}\"],[\"value\",\"@{value}\"]]},\"id\":\"1128\",\"type\":\"HoverTool\"},{\"attributes\":{\"axis\":{\"id\":\"1138\"},\"grid_line_color\":null,\"ticker\":null},\"id\":\"1140\",\"type\":\"Grid\"},{\"attributes\":{\"active_multi\":null,\"tools\":[{\"id\":\"1128\"},{\"id\":\"1145\"},{\"id\":\"1146\"},{\"id\":\"1147\"},{\"id\":\"1148\"},{\"id\":\"1149\"}]},\"id\":\"1151\",\"type\":\"Toolbar\"},{\"attributes\":{},\"id\":\"1146\",\"type\":\"PanTool\"},{\"attributes\":{},\"id\":\"1149\",\"type\":\"ResetTool\"},{\"attributes\":{\"fill_alpha\":{\"value\":0.1},\"fill_color\":{\"field\":\"Variable\",\"transform\":{\"id\":\"1158\"}},\"line_alpha\":{\"value\":0.1},\"top\":{\"field\":\"value\"},\"width\":{\"value\":0.8},\"x\":{\"field\":\"xoffsets\"}},\"id\":\"1163\",\"type\":\"VBar\"},{\"attributes\":{\"bottom_units\":\"screen\",\"fill_alpha\":0.5,\"fill_color\":\"lightgrey\",\"left_units\":\"screen\",\"level\":\"overlay\",\"line_alpha\":1.0,\"line_color\":\"black\",\"line_dash\":[4,4],\"line_width\":2,\"right_units\":\"screen\",\"syncable\":false,\"top_units\":\"screen\"},\"id\":\"1150\",\"type\":\"BoxAnnotation\"},{\"attributes\":{\"source\":{\"id\":\"1159\"}},\"id\":\"1166\",\"type\":\"CDSView\"},{\"attributes\":{\"text\":\"Comparison of Rent and Sales Prices of Most Expensive Neighborhoods\",\"text_color\":\"black\",\"text_font_size\":\"12pt\"},\"id\":\"1130\",\"type\":\"Title\"},{\"attributes\":{},\"id\":\"1171\",\"type\":\"AllLabels\"},{\"attributes\":{},\"id\":\"1182\",\"type\":\"UnionRenderers\"},{\"attributes\":{},\"id\":\"1170\",\"type\":\"AllLabels\"},{\"attributes\":{},\"id\":\"1160\",\"type\":\"Selection\"},{\"attributes\":{\"below\":[{\"id\":\"1138\"}],\"center\":[{\"id\":\"1140\"},{\"id\":\"1144\"}],\"height\":500,\"left\":[{\"id\":\"1141\"}],\"margin\":[5,5,5,5],\"min_border_bottom\":10,\"min_border_left\":10,\"min_border_right\":10,\"min_border_top\":10,\"renderers\":[{\"id\":\"1165\"}],\"sizing_mode\":\"fixed\",\"title\":{\"id\":\"1130\"},\"toolbar\":{\"id\":\"1151\"},\"width\":900,\"x_range\":{\"id\":\"1126\"},\"x_scale\":{\"id\":\"1134\"},\"y_range\":{\"id\":\"1127\"},\"y_scale\":{\"id\":\"1136\"}},\"id\":\"1129\",\"subtype\":\"Figure\",\"type\":\"Plot\"},{\"attributes\":{},\"id\":\"1169\",\"type\":\"CategoricalTickFormatter\"},{\"attributes\":{},\"id\":\"1147\",\"type\":\"WheelZoomTool\"},{\"attributes\":{},\"id\":\"1134\",\"type\":\"CategoricalScale\"},{\"attributes\":{\"axis_label\":\"\",\"formatter\":{\"id\":\"1173\"},\"major_label_policy\":{\"id\":\"1171\"},\"ticker\":{\"id\":\"1142\"}},\"id\":\"1141\",\"type\":\"LinearAxis\"},{\"attributes\":{\"margin\":[5,5,5,5],\"name\":\"HSpacer02035\",\"sizing_mode\":\"stretch_width\"},\"id\":\"1125\",\"type\":\"Spacer\"},{\"attributes\":{},\"id\":\"1139\",\"type\":\"CategoricalTicker\"},{\"attributes\":{},\"id\":\"1136\",\"type\":\"LinearScale\"},{\"attributes\":{},\"id\":\"1173\",\"type\":\"BasicTickFormatter\"},{\"attributes\":{},\"id\":\"1142\",\"type\":\"BasicTicker\"},{\"attributes\":{\"fill_color\":{\"field\":\"Variable\",\"transform\":{\"id\":\"1158\"}},\"top\":{\"field\":\"value\"},\"width\":{\"value\":0.8},\"x\":{\"field\":\"xoffsets\"}},\"id\":\"1162\",\"type\":\"VBar\"},{\"attributes\":{\"fill_alpha\":{\"value\":0.2},\"fill_color\":{\"field\":\"Variable\",\"transform\":{\"id\":\"1158\"}},\"line_alpha\":{\"value\":0.2},\"top\":{\"field\":\"value\"},\"width\":{\"value\":0.8},\"x\":{\"field\":\"xoffsets\"}},\"id\":\"1164\",\"type\":\"VBar\"},{\"attributes\":{\"bottom\":{\"value\":0},\"fill_alpha\":{\"value\":1.0},\"fill_color\":{\"field\":\"Variable\",\"transform\":{\"id\":\"1158\"}},\"hatch_alpha\":{\"value\":1.0},\"hatch_color\":{\"value\":\"black\"},\"hatch_scale\":{\"value\":12.0},\"hatch_weight\":{\"value\":1.0},\"line_alpha\":{\"value\":1.0},\"line_cap\":{\"value\":\"butt\"},\"line_color\":{\"value\":\"black\"},\"line_dash\":{\"value\":[]},\"line_dash_offset\":{\"value\":0},\"line_join\":{\"value\":\"bevel\"},\"line_width\":{\"value\":1},\"top\":{\"field\":\"value\"},\"width\":{\"value\":0.8},\"x\":{\"field\":\"xoffsets\"}},\"id\":\"1167\",\"type\":\"VBar\"}],\"root_ids\":[\"1124\"]},\"title\":\"Bokeh Application\",\"version\":\"2.3.2\"}};\n",
       "    var render_items = [{\"docid\":\"ca134d66-7bb1-4bfb-894d-c625646d7e09\",\"root_ids\":[\"1124\"],\"roots\":{\"1124\":\"944bcc4e-137d-4199-b5f3-54643d7e237f\"}}];\n",
       "    root.Bokeh.embed.embed_items_notebook(docs_json, render_items);\n",
       "  }\n",
       "  if (root.Bokeh !== undefined && root.Bokeh.Panel !== undefined && ( root['Plotly'] !== undefined)) {\n",
       "    embed_document(root);\n",
       "  } else {\n",
       "    var attempts = 0;\n",
       "    var timer = setInterval(function(root) {\n",
       "      if (root.Bokeh !== undefined && root.Bokeh.Panel !== undefined && (root['Plotly'] !== undefined)) {\n",
       "        clearInterval(timer);\n",
       "        embed_document(root);\n",
       "      } else if (document.readyState == \"complete\") {\n",
       "        attempts++;\n",
       "        if (attempts > 200) {\n",
       "          clearInterval(timer);\n",
       "          console.log(\"Bokeh: ERROR: Unable to run BokehJS code because BokehJS library is missing\");\n",
       "        }\n",
       "      }\n",
       "    }, 25, root)\n",
       "  }\n",
       "})(window);</script>"
      ],
      "text/plain": [
       ":Bars   [neighborhood,Variable]   (value)"
      ],
      "application/vnd.holoviews_exec.v0+json": ""
     },
     "metadata": {
      "application/vnd.holoviews_exec.v0+json": {
       "id": "1124"
      }
     },
     "execution_count": 10
    }
   ],
   "metadata": {}
  },
  {
   "cell_type": "code",
   "execution_count": null,
   "source": [
    "# neighborhood_map().show()"
   ],
   "outputs": [],
   "metadata": {}
  },
  {
   "cell_type": "code",
   "execution_count": null,
   "source": [
    "# parallel_categories()"
   ],
   "outputs": [],
   "metadata": {}
  },
  {
   "cell_type": "code",
   "execution_count": null,
   "source": [
    "# parallel_coordinates()"
   ],
   "outputs": [],
   "metadata": {}
  },
  {
   "cell_type": "code",
   "execution_count": null,
   "source": [
    "# sunburst()"
   ],
   "outputs": [],
   "metadata": {}
  },
  {
   "cell_type": "code",
   "execution_count": null,
   "source": [],
   "outputs": [],
   "metadata": {}
  },
  {
   "cell_type": "code",
   "execution_count": null,
   "source": [],
   "outputs": [],
   "metadata": {}
  }
 ],
 "metadata": {
  "file_extension": ".py",
  "kernelspec": {
   "name": "python3",
   "display_name": "Python 3.7.10 64-bit ('pyvizenv': conda)"
  },
  "language_info": {
   "codemirror_mode": {
    "name": "ipython",
    "version": 3
   },
   "file_extension": ".py",
   "mimetype": "text/x-python",
   "name": "python",
   "nbconvert_exporter": "python",
   "pygments_lexer": "ipython3",
   "version": "3.7.10"
  },
  "mimetype": "text/x-python",
  "name": "python",
  "npconvert_exporter": "python",
  "pygments_lexer": "ipython3",
  "version": 3,
  "interpreter": {
   "hash": "bf1b300f47a2dc243b711dae747cc8684c0142db14a6347d5228c2ee176414e0"
  }
 },
 "nbformat": 4,
 "nbformat_minor": 4
}